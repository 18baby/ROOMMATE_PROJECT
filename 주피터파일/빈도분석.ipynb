{
 "cells": [
  {
   "cell_type": "code",
   "execution_count": 1,
   "id": "fd779639",
   "metadata": {},
   "outputs": [],
   "source": [
    "import pandas as pd\n",
    "import numpy as np"
   ]
  },
  {
   "cell_type": "code",
   "execution_count": 2,
   "id": "6d1efcfa",
   "metadata": {},
   "outputs": [
    {
     "data": {
      "text/plain": [
       "Index(['타임스탬프', '1. 본인의 이메일을 입력해주세요', '3. 본인의 성별을 입력하세요.',\n",
       "       '2. 본인의 나이를 입력하세요(숫자만 입력)',\n",
       "       '4. 본인의 거주 홀을 입력하세요 \\n(모르시면 아무거나 입력하셔도 됩니다.)', '5. 본인의 단과대를 입력하세요',\n",
       "       '6. 본인 성격 유형을 입력하세요.', '7. 본인 주말 거주 유형을 입력하세요.',\n",
       "       '8. 본인 평일 거주 유형을 입력하세요.', '9. 본인 흡연 여부를 입력하세요.',\n",
       "       '10. 본인의 음주 정도를 입력하세요.', '11. 본인의 식사 해결 장소를 입력하세요.',\n",
       "       '12. 룸메이트와 배달 음식 같이 먹기 희망 여부를 입력하세요.', '13. 본인 평균 기상 시간을 입력하세요.',\n",
       "       '14. 본인 평균 취침 시간을 입력하세요.', '15. 본인의 취침시 예민도를 입력하세요.',\n",
       "       '16. 본인의 잠버릇 유무를 입력하세요.', '17. 본인의 일주일간 청소 빈도를 입력하세요.',\n",
       "       '18. 본인의 샤워 시간대를 입력하세요.', '1. 원하는 룸메이트 나이대를 입력하세요.',\n",
       "       '2. 룸메이트와 같은 단과대 희망 여부를 입력하세요.', '3. 원하는 룸메이트 성격 유형을 입력하세요.',\n",
       "       '4. 원하는 룸메이트 주말 거주 유형을 입력하세요.', '5. 원하는 룸메이트 평일 거주 유형을 입력하세요.',\n",
       "       '6. 원하는 룸메이트 흡연 여부를 입력하세요.', '7. 원하는 룸메이트 음주 정도를 입력하세요.',\n",
       "       '8. 원하는 룸메이트 식사 해결 장소를 입력하세요.', '9. 원하는 룸메이트 배달 음식 같이 먹기 희망 여부를 입력하세요.',\n",
       "       '10.  원하는 룸메이트 평균 기상 시간을 입력하세요.', '11. 원하는 룸메이트 평균 취침 시간을 입력하세요.',\n",
       "       '12 .원하는 룸메이트 취침 예민도를 입력하세요.', '13. 원하는 룸메이트 잠버릇 유무를 입력하세요.',\n",
       "       '14. 원하는 룸메이트 일주일간 청소 빈도를 입력하세요.', '15. 원하는 룸메이트 샤워 시간대를 입력하세요.',\n",
       "       '설문지 응답하신분들중에 추첨으로 상품을 전달 드릴 예정입니다!!\\n원하시는 분들은 아래 연락처를 남겨주시면 당첨 시 연락 드리겠습니다!!',\n",
       "       '원하는 상대방 정보 중 가장 중요하게 생각하시는 특징이 있다면 아래 써주시면 감사하겠습니다!!', 'Unnamed: 36'],\n",
       "      dtype='object')"
      ]
     },
     "execution_count": 2,
     "metadata": {},
     "output_type": "execute_result"
    }
   ],
   "source": [
    "filename = '룸메이트 설문지 응답.xlsx'\n",
    "\n",
    "# 엑셀 파일 읽어 오기\n",
    "df = pd.read_excel(filename, engine='openpyxl')\n",
    "\n",
    "df.columns"
   ]
  },
  {
   "cell_type": "code",
   "execution_count": 3,
   "id": "2f1fe26c",
   "metadata": {
    "scrolled": true
   },
   "outputs": [
    {
     "data": {
      "text/plain": [
       "Index(['1. 원하는 룸메이트 나이대를 입력하세요.', '2. 룸메이트와 같은 단과대 희망 여부를 입력하세요.',\n",
       "       '3. 원하는 룸메이트 성격 유형을 입력하세요.', '4. 원하는 룸메이트 주말 거주 유형을 입력하세요.',\n",
       "       '5. 원하는 룸메이트 평일 거주 유형을 입력하세요.', '6. 원하는 룸메이트 흡연 여부를 입력하세요.',\n",
       "       '7. 원하는 룸메이트 음주 정도를 입력하세요.', '8. 원하는 룸메이트 식사 해결 장소를 입력하세요.',\n",
       "       '9. 원하는 룸메이트 배달 음식 같이 먹기 희망 여부를 입력하세요.',\n",
       "       '10.  원하는 룸메이트 평균 기상 시간을 입력하세요.', '11. 원하는 룸메이트 평균 취침 시간을 입력하세요.',\n",
       "       '12 .원하는 룸메이트 취침 예민도를 입력하세요.', '13. 원하는 룸메이트 잠버릇 유무를 입력하세요.',\n",
       "       '14. 원하는 룸메이트 일주일간 청소 빈도를 입력하세요.', '15. 원하는 룸메이트 샤워 시간대를 입력하세요.'],\n",
       "      dtype='object')"
      ]
     },
     "execution_count": 3,
     "metadata": {},
     "output_type": "execute_result"
    }
   ],
   "source": [
    "want_df = df.iloc[:, 19:34]\n",
    "want_df.head()\n",
    "want_df.columns"
   ]
  },
  {
   "cell_type": "code",
   "execution_count": 4,
   "id": "28a5e406",
   "metadata": {},
   "outputs": [],
   "source": [
    "cols = list(want_df.columns)"
   ]
  },
  {
   "cell_type": "code",
   "execution_count": 5,
   "id": "fdeb218c",
   "metadata": {},
   "outputs": [
    {
     "data": {
      "text/plain": [
       "0.5294117647058824"
      ]
     },
     "execution_count": 5,
     "metadata": {},
     "output_type": "execute_result"
    }
   ],
   "source": [
    "vc = want_df[\"1. 원하는 룸메이트 나이대를 입력하세요.\"].value_counts(sort=False)/len(want_df)\n",
    "vc['상관 없음']   # 상관없음의 빈도"
   ]
  },
  {
   "cell_type": "code",
   "execution_count": 6,
   "id": "190bc8ac",
   "metadata": {},
   "outputs": [
    {
     "data": {
      "text/plain": [
       "상관 없음      99\n",
       "22살~23살    25\n",
       "26살 이상      9\n",
       "20살~21살    21\n",
       "24살~25살    33\n",
       "Name: 1. 원하는 룸메이트 나이대를 입력하세요., dtype: int64"
      ]
     },
     "execution_count": 6,
     "metadata": {},
     "output_type": "execute_result"
    }
   ],
   "source": [
    "want_df[\"1. 원하는 룸메이트 나이대를 입력하세요.\"].value_counts(sort=False)"
   ]
  },
  {
   "cell_type": "code",
   "execution_count": 7,
   "id": "2e620ad9",
   "metadata": {},
   "outputs": [
    {
     "data": {
      "text/plain": [
       "187"
      ]
     },
     "execution_count": 7,
     "metadata": {},
     "output_type": "execute_result"
    }
   ],
   "source": [
    "len(want_df)"
   ]
  },
  {
   "cell_type": "code",
   "execution_count": 8,
   "id": "e17faf3e",
   "metadata": {},
   "outputs": [],
   "source": [
    "stats = []\n",
    "anything_count = []\n",
    "\n",
    "for col in cols:\n",
    "    vc = want_df[col].value_counts(sort=False)/len(want_df)\n",
    "    stats.append(vc)\n",
    "    anything_count.append((1 - vc['상관 없음'])**3 *50)  # (상관 있는 변수의)가중치 50 부여"
   ]
  },
  {
   "cell_type": "code",
   "execution_count": 9,
   "id": "45f2f14b",
   "metadata": {},
   "outputs": [
    {
     "data": {
      "text/plain": [
       "[5.210665581111337,\n",
       " 1.2721351516385095,\n",
       " 4.531928432256959,\n",
       " 5.761948359761884,\n",
       " 6.764861100045374,\n",
       " 28.473462285847372,\n",
       " 5.953997757830731,\n",
       " 0.7938505655811572,\n",
       " 13.54569509464685,\n",
       " 17.988713609288467,\n",
       " 26.325463515966703,\n",
       " 12.562937715804209,\n",
       " 5.035040202911578,\n",
       " 29.028124681249384,\n",
       " 6.150267853743032]"
      ]
     },
     "execution_count": 9,
     "metadata": {},
     "output_type": "execute_result"
    }
   ],
   "source": [
    "anything_count"
   ]
  },
  {
   "cell_type": "code",
   "execution_count": 10,
   "id": "3c0f1eb7",
   "metadata": {},
   "outputs": [],
   "source": [
    "sorted_idx = np.argsort(anything_count)"
   ]
  },
  {
   "cell_type": "code",
   "execution_count": 17,
   "id": "f86b69d6",
   "metadata": {},
   "outputs": [
    {
     "data": {
      "text/plain": [
       "상관 없음      0.529412\n",
       "22살~23살    0.133690\n",
       "26살 이상     0.048128\n",
       "20살~21살    0.112299\n",
       "24살~25살    0.176471\n",
       "Name: 1. 원하는 룸메이트 나이대를 입력하세요., dtype: float64"
      ]
     },
     "execution_count": 17,
     "metadata": {},
     "output_type": "execute_result"
    }
   ],
   "source": [
    "stats[0]"
   ]
  },
  {
   "cell_type": "code",
   "execution_count": 19,
   "id": "15dfcc25",
   "metadata": {},
   "outputs": [
    {
     "name": "stdout",
     "output_type": "stream",
     "text": [
      "8. 원하는 룸메이트 식사 해결 장소를 입력하세요.\n",
      "2. 룸메이트와 같은 단과대 희망 여부를 입력하세요.\n",
      "3. 원하는 룸메이트 성격 유형을 입력하세요.\n",
      "13. 원하는 룸메이트 잠버릇 유무를 입력하세요.\n",
      "1. 원하는 룸메이트 나이대를 입력하세요.\n",
      "4. 원하는 룸메이트 주말 거주 유형을 입력하세요.\n",
      "7. 원하는 룸메이트 음주 정도를 입력하세요.\n",
      "15. 원하는 룸메이트 샤워 시간대를 입력하세요.\n",
      "5. 원하는 룸메이트 평일 거주 유형을 입력하세요.\n",
      "12 .원하는 룸메이트 취침 예민도를 입력하세요.\n",
      "9. 원하는 룸메이트 배달 음식 같이 먹기 희망 여부를 입력하세요.\n",
      "10.  원하는 룸메이트 평균 기상 시간을 입력하세요.\n",
      "11. 원하는 룸메이트 평균 취침 시간을 입력하세요.\n",
      "6. 원하는 룸메이트 흡연 여부를 입력하세요.\n",
      "14. 원하는 룸메이트 일주일간 청소 빈도를 입력하세요.\n"
     ]
    }
   ],
   "source": [
    "for i in sorted_idx:\n",
    "    print(stats[i].name)"
   ]
  }
 ],
 "metadata": {
  "kernelspec": {
   "display_name": "Python 3",
   "language": "python",
   "name": "python3"
  },
  "language_info": {
   "codemirror_mode": {
    "name": "ipython",
    "version": 3
   },
   "file_extension": ".py",
   "mimetype": "text/x-python",
   "name": "python",
   "nbconvert_exporter": "python",
   "pygments_lexer": "ipython3",
   "version": "3.8.8"
  }
 },
 "nbformat": 4,
 "nbformat_minor": 5
}
